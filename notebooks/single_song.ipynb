{
 "cells": [
  {
   "cell_type": "code",
   "execution_count": 1,
   "metadata": {},
   "outputs": [],
   "source": [
    "#imports and settings\n",
    "import sqlite3\n",
    "import pandas as pd\n",
    "import pretty_midi\n",
    "import matplotlib.pyplot as plt\n",
    "import matplotlib\n",
    "%matplotlib inline\n",
    "pd.options.display.max_columns = 999\n",
    "plt.style.use('bmh')"
   ]
  },
  {
   "cell_type": "code",
   "execution_count": 2,
   "metadata": {},
   "outputs": [],
   "source": [
    "conn = sqlite3.connect('/Users/tburch/Documents/Datasets/jazz/wjazzd.db')"
   ]
  },
  {
   "cell_type": "markdown",
   "metadata": {},
   "source": [
    "## Doing a look into 'I got it bad'"
   ]
  },
  {
   "cell_type": "markdown",
   "metadata": {},
   "source": [
    "But first, I need to make sure I've got it..."
   ]
  },
  {
   "cell_type": "code",
   "execution_count": 32,
   "metadata": {},
   "outputs": [
    {
     "data": {
      "text/html": [
       "<div>\n",
       "<table border=\"1\" class=\"dataframe\">\n",
       "  <thead>\n",
       "    <tr style=\"text-align: right;\">\n",
       "      <th></th>\n",
       "      <th>compid</th>\n",
       "      <th>title</th>\n",
       "      <th>composer</th>\n",
       "      <th>form</th>\n",
       "      <th>template</th>\n",
       "      <th>tonalitytype</th>\n",
       "      <th>genre</th>\n",
       "    </tr>\n",
       "  </thead>\n",
       "  <tbody>\n",
       "    <tr>\n",
       "      <th>0</th>\n",
       "      <td>6</td>\n",
       "      <td>I Got It Bad</td>\n",
       "      <td>Ellington/Webster</td>\n",
       "      <td>A8A8B8A8</td>\n",
       "      <td></td>\n",
       "      <td>FUNCTIONAL</td>\n",
       "      <td>GREAT AMERICAN SONGBOOK</td>\n",
       "    </tr>\n",
       "  </tbody>\n",
       "</table>\n",
       "</div>"
      ],
      "text/plain": [
       "   compid         title           composer      form template tonalitytype  \\\n",
       "0       6  I Got It Bad  Ellington/Webster  A8A8B8A8            FUNCTIONAL   \n",
       "\n",
       "                     genre  \n",
       "0  GREAT AMERICAN SONGBOOK  "
      ]
     },
     "execution_count": 32,
     "metadata": {},
     "output_type": "execute_result"
    }
   ],
   "source": [
    "# Songs\n",
    "query = \"SELECT * FROM composition_info WHERE compid IS 6\"\n",
    "song_info = pd.read_sql_query(query, conn)\n",
    "song_info.head()\n"
   ]
  },
  {
   "cell_type": "markdown",
   "metadata": {},
   "source": [
    "Okay, so there's 2 versions of \"stardust\" before this. comp_id drops the doubl, so index for \"I got it bad is 6\"\n",
    "\n",
    "Is it the same for melid?"
   ]
  },
  {
   "cell_type": "code",
   "execution_count": 28,
   "metadata": {},
   "outputs": [
    {
     "name": "stdout",
     "output_type": "stream",
     "text": [
      "0    A#3\n",
      "1    A#4\n",
      "2    A#3\n",
      "3    A#4\n",
      "4    G#4\n",
      "Name: pitch, dtype: object\n"
     ]
    }
   ],
   "source": [
    "# Melody db\n",
    "query = \"SELECT * FROM melody WHERE melid IS 6\"\n",
    "song_melody = pd.read_sql_query(query, conn)\n",
    "# Check the first few notes\n",
    "print song_melody.pitch.head().apply(pretty_midi.note_number_to_name)"
   ]
  },
  {
   "cell_type": "markdown",
   "metadata": {},
   "source": [
    "Nope. Song goes G, Ab, G, Bb, Ab"
   ]
  },
  {
   "cell_type": "code",
   "execution_count": 29,
   "metadata": {},
   "outputs": [
    {
     "name": "stdout",
     "output_type": "stream",
     "text": [
      "0     G3\n",
      "1    G#3\n",
      "2     G4\n",
      "3    A#4\n",
      "4    G#4\n",
      "Name: pitch, dtype: object\n"
     ]
    }
   ],
   "source": [
    "# Melody db\n",
    "query = \"SELECT * FROM melody WHERE melid IS 7\"\n",
    "song_melody = pd.read_sql_query(query, conn)\n",
    "# Check the first few notes\n",
    "print song_melody.pitch.head().apply(pretty_midi.note_number_to_name)"
   ]
  },
  {
   "cell_type": "markdown",
   "metadata": {},
   "source": [
    "That's it, so melid doesn't have the other one dropped."
   ]
  },
  {
   "cell_type": "code",
   "execution_count": 75,
   "metadata": {},
   "outputs": [
    {
     "data": {
      "image/png": "[encoded data removed]",
      "text/plain": [
       "<matplotlib.figure.Figure at 0x1129dc610>"
      ]
     },
     "metadata": {},
     "output_type": "display_data"
    }
   ],
   "source": [
    "pitch_range = song_melody.pitch.max()-song_melody.pitch.min()\n",
    "ax= song_melody.pitch.hist(bins=int(pitch_range))\n",
    "ax.grid(False)"
   ]
  },
  {
   "cell_type": "code",
   "execution_count": 73,
   "metadata": {},
   "outputs": [
    {
     "name": "stdout",
     "output_type": "stream",
     "text": [
      "C#4  occurs  71  times\n",
      "F4  occurs  61  times\n",
      "G#4  occurs  52  times\n",
      "A#3  occurs  50  times\n",
      "D#4  occurs  40  times\n"
     ]
    }
   ],
   "source": [
    "# Probably a better way to do this?\n",
    "pitches = song_melody.pitch.value_counts().nlargest(5).index\n",
    "counts = song_melody.pitch.value_counts().nlargest(5).values\n",
    "for i, c in zip(pitches, counts):\n",
    "    print pretty_midi.note_number_to_name(i), \" occurs \", c, \" times\""
   ]
  },
  {
   "cell_type": "markdown",
   "metadata": {},
   "source": [
    "Looking at the sheet music, key is Dbmaj.\n",
    "\n",
    "Root, Db4 occurs the most (71)\n",
    "\n",
    "Third, F4 occurs second most (61)\n",
    "\n",
    "Fifth, Ab4 occurs third most (52)\n",
    "\n",
    "bSeven, Bb3 occurs fourth most (50)\n",
    "\n",
    "Second/ninth, Eb4 occurs fifth most (40)\n",
    "\n",
    "This all makes a lot of sense. Would be nice to write a function to get these all in the same range"
   ]
  },
  {
   "cell_type": "code",
   "execution_count": 91,
   "metadata": {},
   "outputs": [],
   "source": [
    "def same_range(value):\n",
    "    while (value > 12): value -=12\n",
    "    return int(value)"
   ]
  },
  {
   "cell_type": "code",
   "execution_count": 95,
   "metadata": {},
   "outputs": [
    {
     "data": {
      "text/html": [
       "<div>\n",
       "<table border=\"1\" class=\"dataframe\">\n",
       "  <thead>\n",
       "    <tr style=\"text-align: right;\">\n",
       "      <th></th>\n",
       "      <th>eventid</th>\n",
       "      <th>melid</th>\n",
       "      <th>onset</th>\n",
       "      <th>pitch</th>\n",
       "      <th>duration</th>\n",
       "      <th>period</th>\n",
       "      <th>division</th>\n",
       "      <th>bar</th>\n",
       "      <th>beat</th>\n",
       "      <th>tatum</th>\n",
       "      <th>subtatum</th>\n",
       "      <th>num</th>\n",
       "      <th>denom</th>\n",
       "      <th>beatprops</th>\n",
       "      <th>beatdur</th>\n",
       "      <th>tatumprops</th>\n",
       "      <th>f0_mod</th>\n",
       "      <th>loud_max</th>\n",
       "      <th>loud_med</th>\n",
       "      <th>loud_sd</th>\n",
       "      <th>loud_relpos</th>\n",
       "      <th>loud_cent</th>\n",
       "      <th>loud_s2b</th>\n",
       "      <th>f0_range</th>\n",
       "      <th>f0_freq_hz</th>\n",
       "      <th>f0_med_dev</th>\n",
       "      <th>normalized_pitches</th>\n",
       "      <th>normalized_pitch</th>\n",
       "    </tr>\n",
       "  </thead>\n",
       "  <tbody>\n",
       "    <tr>\n",
       "      <th>0</th>\n",
       "      <td>3635</td>\n",
       "      <td>7</td>\n",
       "      <td>0.139320</td>\n",
       "      <td>55.0</td>\n",
       "      <td>0.708209</td>\n",
       "      <td>4</td>\n",
       "      <td>3</td>\n",
       "      <td>1</td>\n",
       "      <td>1</td>\n",
       "      <td>1</td>\n",
       "      <td>0</td>\n",
       "      <td>4</td>\n",
       "      <td>4</td>\n",
       "      <td>None</td>\n",
       "      <td>1.065420</td>\n",
       "      <td>(1.0, 1.0, 0.868)</td>\n",
       "      <td>vibrato</td>\n",
       "      <td>0.867257</td>\n",
       "      <td>67.532052</td>\n",
       "      <td>15.428112</td>\n",
       "      <td>0.261538</td>\n",
       "      <td>0.537638</td>\n",
       "      <td>1.096556</td>\n",
       "      <td>12.530517</td>\n",
       "      <td>2.798080</td>\n",
       "      <td>-26.012463</td>\n",
       "      <td>7</td>\n",
       "      <td>7</td>\n",
       "    </tr>\n",
       "    <tr>\n",
       "      <th>1</th>\n",
       "      <td>3636</td>\n",
       "      <td>7</td>\n",
       "      <td>0.882358</td>\n",
       "      <td>56.0</td>\n",
       "      <td>1.160998</td>\n",
       "      <td>4</td>\n",
       "      <td>3</td>\n",
       "      <td>1</td>\n",
       "      <td>1</td>\n",
       "      <td>3</td>\n",
       "      <td>0</td>\n",
       "      <td>4</td>\n",
       "      <td>4</td>\n",
       "      <td>None</td>\n",
       "      <td>1.065420</td>\n",
       "      <td>(1.0, 1.0, 0.868)</td>\n",
       "      <td>vibrato</td>\n",
       "      <td>0.740745</td>\n",
       "      <td>60.356557</td>\n",
       "      <td>6.507392</td>\n",
       "      <td>0.028302</td>\n",
       "      <td>0.446600</td>\n",
       "      <td>1.060992</td>\n",
       "      <td>52.345901</td>\n",
       "      <td>6.141589</td>\n",
       "      <td>-35.144954</td>\n",
       "      <td>8</td>\n",
       "      <td>8</td>\n",
       "    </tr>\n",
       "    <tr>\n",
       "      <th>2</th>\n",
       "      <td>3637</td>\n",
       "      <td>7</td>\n",
       "      <td>2.043356</td>\n",
       "      <td>67.0</td>\n",
       "      <td>0.121905</td>\n",
       "      <td>4</td>\n",
       "      <td>6</td>\n",
       "      <td>1</td>\n",
       "      <td>2</td>\n",
       "      <td>6</td>\n",
       "      <td>0</td>\n",
       "      <td>4</td>\n",
       "      <td>4</td>\n",
       "      <td>None</td>\n",
       "      <td>0.930023</td>\n",
       "      <td>(1.0, 1.0, 1.0, 1.0, 1.0, 0.488)</td>\n",
       "      <td>slide</td>\n",
       "      <td>0.774255</td>\n",
       "      <td>48.974195</td>\n",
       "      <td>15.295207</td>\n",
       "      <td>0.727273</td>\n",
       "      <td>0.726045</td>\n",
       "      <td>0.885787</td>\n",
       "      <td>64.656042</td>\n",
       "      <td>NaN</td>\n",
       "      <td>37.383206</td>\n",
       "      <td>7</td>\n",
       "      <td>7</td>\n",
       "    </tr>\n",
       "    <tr>\n",
       "      <th>3</th>\n",
       "      <td>3638</td>\n",
       "      <td>7</td>\n",
       "      <td>2.182676</td>\n",
       "      <td>70.0</td>\n",
       "      <td>0.499229</td>\n",
       "      <td>4</td>\n",
       "      <td>2</td>\n",
       "      <td>1</td>\n",
       "      <td>3</td>\n",
       "      <td>1</td>\n",
       "      <td>0</td>\n",
       "      <td>4</td>\n",
       "      <td>4</td>\n",
       "      <td>None</td>\n",
       "      <td>0.904104</td>\n",
       "      <td>(1.0, 0.698)</td>\n",
       "      <td></td>\n",
       "      <td>0.858559</td>\n",
       "      <td>57.219681</td>\n",
       "      <td>6.899700</td>\n",
       "      <td>0.043478</td>\n",
       "      <td>0.356399</td>\n",
       "      <td>1.137299</td>\n",
       "      <td>88.781133</td>\n",
       "      <td>2.121224</td>\n",
       "      <td>-6.576642</td>\n",
       "      <td>10</td>\n",
       "      <td>10</td>\n",
       "    </tr>\n",
       "    <tr>\n",
       "      <th>4</th>\n",
       "      <td>3639</td>\n",
       "      <td>7</td>\n",
       "      <td>2.681905</td>\n",
       "      <td>68.0</td>\n",
       "      <td>1.962086</td>\n",
       "      <td>4</td>\n",
       "      <td>2</td>\n",
       "      <td>1</td>\n",
       "      <td>3</td>\n",
       "      <td>2</td>\n",
       "      <td>0</td>\n",
       "      <td>4</td>\n",
       "      <td>4</td>\n",
       "      <td>None</td>\n",
       "      <td>0.904104</td>\n",
       "      <td>(1.0, 0.698)</td>\n",
       "      <td></td>\n",
       "      <td>0.144512</td>\n",
       "      <td>43.546966</td>\n",
       "      <td>5.648497</td>\n",
       "      <td>0.027778</td>\n",
       "      <td>0.402513</td>\n",
       "      <td>1.114380</td>\n",
       "      <td>23.557765</td>\n",
       "      <td>12.177436</td>\n",
       "      <td>2.827998</td>\n",
       "      <td>8</td>\n",
       "      <td>8</td>\n",
       "    </tr>\n",
       "  </tbody>\n",
       "</table>\n",
       "</div>"
      ],
      "text/plain": [
       "   eventid  melid     onset  pitch  duration  period  division  bar  beat  \\\n",
       "0     3635      7  0.139320   55.0  0.708209       4         3    1     1   \n",
       "1     3636      7  0.882358   56.0  1.160998       4         3    1     1   \n",
       "2     3637      7  2.043356   67.0  0.121905       4         6    1     2   \n",
       "3     3638      7  2.182676   70.0  0.499229       4         2    1     3   \n",
       "4     3639      7  2.681905   68.0  1.962086       4         2    1     3   \n",
       "\n",
       "   tatum  subtatum  num  denom beatprops   beatdur  \\\n",
       "0      1         0    4      4      None  1.065420   \n",
       "1      3         0    4      4      None  1.065420   \n",
       "2      6         0    4      4      None  0.930023   \n",
       "3      1         0    4      4      None  0.904104   \n",
       "4      2         0    4      4      None  0.904104   \n",
       "\n",
       "                         tatumprops   f0_mod  loud_max   loud_med    loud_sd  \\\n",
       "0                 (1.0, 1.0, 0.868)  vibrato  0.867257  67.532052  15.428112   \n",
       "1                 (1.0, 1.0, 0.868)  vibrato  0.740745  60.356557   6.507392   \n",
       "2  (1.0, 1.0, 1.0, 1.0, 1.0, 0.488)    slide  0.774255  48.974195  15.295207   \n",
       "3                      (1.0, 0.698)           0.858559  57.219681   6.899700   \n",
       "4                      (1.0, 0.698)           0.144512  43.546966   5.648497   \n",
       "\n",
       "   loud_relpos  loud_cent  loud_s2b   f0_range  f0_freq_hz  f0_med_dev  \\\n",
       "0     0.261538   0.537638  1.096556  12.530517    2.798080  -26.012463   \n",
       "1     0.028302   0.446600  1.060992  52.345901    6.141589  -35.144954   \n",
       "2     0.727273   0.726045  0.885787  64.656042         NaN   37.383206   \n",
       "3     0.043478   0.356399  1.137299  88.781133    2.121224   -6.576642   \n",
       "4     0.027778   0.402513  1.114380  23.557765   12.177436    2.827998   \n",
       "\n",
       "   normalized_pitches  normalized_pitch  \n",
       "0                   7                 7  \n",
       "1                   8                 8  \n",
       "2                   7                 7  \n",
       "3                  10                10  \n",
       "4                   8                 8  "
      ]
     },
     "execution_count": 95,
     "metadata": {},
     "output_type": "execute_result"
    }
   ],
   "source": [
    "song_melody['normalized_pitch'] = song_melody.pitch.apply(same_range)\n",
    "song_melody.head()"
   ]
  },
  {
   "cell_type": "markdown",
   "metadata": {},
   "source": [
    "That worked well. Let's reevaluate."
   ]
  },
  {
   "cell_type": "code",
   "execution_count": 98,
   "metadata": {},
   "outputs": [
    {
     "data": {
      "image/png": "[encoded data removed]",
      "text/plain": [
       "<matplotlib.figure.Figure at 0x11227f210>"
      ]
     },
     "metadata": {},
     "output_type": "display_data"
    }
   ],
   "source": [
    "pitch_range = song_melody.normalized_pitch.max()-song_melody.normalized_pitch.min()\n",
    "ax= song_melody.normalized_pitch.hist(bins=int(pitch_range))"
   ]
  },
  {
   "cell_type": "code",
   "execution_count": 100,
   "metadata": {},
   "outputs": [
    {
     "name": "stdout",
     "output_type": "stream",
     "text": [
      "C#-1  occurs  83  times\n",
      "A#-1  occurs  79  times\n",
      "G#-1  occurs  79  times\n",
      "F-1  occurs  71  times\n",
      "F#-1  occurs  52  times\n"
     ]
    }
   ],
   "source": [
    "pitches = song_melody.normalized_pitch.value_counts().nlargest(5).index\n",
    "counts = song_melody.normalized_pitch.value_counts().nlargest(5).values\n",
    "for i, c in zip(pitches, counts):\n",
    "    print pretty_midi.note_number_to_name(i), \" occurs \", c, \" times\""
   ]
  },
  {
   "cell_type": "markdown",
   "metadata": {},
   "source": [
    "what changed?\n",
    "\n",
    "Root, Db4 still occurs the most (83)\n",
    "\n",
    "The b7 and 5 tied for secondmost (79\n",
    "\n",
    "Third, F4 occurs fourth most (71)\n",
    "\n",
    "Fourth, Gb occurs quite a bit (52) - didn't show up in previous"
   ]
  }
 ],
 "metadata": {
  "kernelspec": {
   "display_name": "Python 2",
   "language": "python",
   "name": "python2"
  },
  "language_info": {
   "codemirror_mode": {
    "name": "ipython",
    "version": 2
   },
   "file_extension": ".py",
   "mimetype": "text/x-python",
   "name": "python",
   "nbconvert_exporter": "python",
   "pygments_lexer": "ipython2",
   "version": "2.7.15"
  }
 },
 "nbformat": 4,
 "nbformat_minor": 2
}
